{
 "cells": [
  {
   "cell_type": "code",
   "execution_count": 2,
   "outputs": [],
   "source": [
    "import pandas as pd\n",
    "from datetime import date\n",
    "from functools import reduce\n",
    "import argparse\n",
    "import pickle\n",
    "import os\n",
    "import glob"
   ],
   "metadata": {
    "collapsed": false,
    "pycharm": {
     "name": "#%%\n"
    }
   }
  },
  {
   "cell_type": "code",
   "execution_count": 3,
   "outputs": [
    {
     "ename": "FileNotFoundError",
     "evalue": "[Errno 2] No such file or directory: './Test_images/3AlgorithmsTest_qf_dicts.p'",
     "output_type": "error",
     "traceback": [
      "\u001B[0;31m---------------------------------------------------------------------------\u001B[0m",
      "\u001B[0;31mFileNotFoundError\u001B[0m                         Traceback (most recent call last)",
      "Input \u001B[0;32mIn [3]\u001B[0m, in \u001B[0;36m<cell line: 5>\u001B[0;34m()\u001B[0m\n\u001B[1;32m      3\u001B[0m subset \u001B[38;5;241m=\u001B[39m \u001B[38;5;124m'\u001B[39m\u001B[38;5;124m3Algorithms\u001B[39m\u001B[38;5;124m'\u001B[39m\n\u001B[1;32m      4\u001B[0m DATA_ROOT_PATH \u001B[38;5;241m=\u001B[39m \u001B[38;5;124m'\u001B[39m\u001B[38;5;124m./Test_images\u001B[39m\u001B[38;5;124m'\u001B[39m\n\u001B[0;32m----> 5\u001B[0m \u001B[43mos\u001B[49m\u001B[38;5;241;43m.\u001B[39;49m\u001B[43mremove\u001B[49m\u001B[43m(\u001B[49m\u001B[43mDATA_ROOT_PATH\u001B[49m\u001B[38;5;241;43m+\u001B[39;49m\u001B[38;5;124;43m'\u001B[39;49m\u001B[38;5;124;43m/\u001B[39;49m\u001B[38;5;124;43m'\u001B[39;49m\u001B[38;5;241;43m+\u001B[39;49m\u001B[43msubset\u001B[49m\u001B[38;5;241;43m+\u001B[39;49m\u001B[38;5;124;43m'\u001B[39;49m\u001B[38;5;124;43mTest_qf_dicts.p\u001B[39;49m\u001B[38;5;124;43m'\u001B[39;49m\u001B[43m)\u001B[49m\n",
      "\u001B[0;31mFileNotFoundError\u001B[0m: [Errno 2] No such file or directory: './Test_images/3AlgorithmsTest_qf_dicts.p'"
     ]
    }
   ],
   "source": [
    "import os\n",
    "DATA_ROOT_PATH = os.environ.get('DATA_ROOT_PATH')\n",
    "subset = '3Algorithms'\n",
    "DATA_ROOT_PATH = './Test_images'\n",
    "os.remove(DATA_ROOT_PATH+'/'+subset+'Test_qf_dicts.p')"
   ],
   "metadata": {
    "collapsed": false,
    "pycharm": {
     "name": "#%%\n"
    }
   }
  },
  {
   "cell_type": "code",
   "execution_count": 21,
   "outputs": [],
   "source": [
    "efficientnet_b4_NR_mish_probabilities_DATA_ROOT_PATH = os.environ.get('DATA_ROOT_PATH')\n",
    "output = os.path.join('/home/dsintern3/Documents/GitHub/Kaggle-2020-Alaska2/abba/models_predictions/LB')\n",
    "folder = 'Test/'\n",
    "folder_subpath =folder[:-1]\n",
    "all_files = glob.glob(os.path.join(output,\"*\"+folder_subpath+'.csv'))"
   ],
   "metadata": {
    "collapsed": false,
    "pycharm": {
     "name": "#%%\n"
    }
   }
  },
  {
   "cell_type": "code",
   "execution_count": 23,
   "outputs": [
    {
     "data": {
      "text/plain": "['/home/dsintern3/Documents/GitHub/Kaggle-2020-Alaska2/abba/models_predictions/LB/QF90_JRM_votes_Test.csv',\n '/home/dsintern3/Documents/GitHub/Kaggle-2020-Alaska2/abba/models_predictions/LB/QF95_JRM_votes_Test.csv',\n '/home/dsintern3/Documents/GitHub/Kaggle-2020-Alaska2/abba/models_predictions/LB/efficientnet_b2_probabilities_Test.csv',\n '/home/dsintern3/Documents/GitHub/Kaggle-2020-Alaska2/abba/models_predictions/LB/QF75_DCTR_votes_Test.csv',\n '/home/dsintern3/Documents/GitHub/Kaggle-2020-Alaska2/abba/models_predictions/LB/mixnet_xL_NR_mish_Test.csv',\n '/home/dsintern3/Documents/GitHub/Kaggle-2020-Alaska2/abba/models_predictions/LB/QF95_DCTR_votes_Test.csv',\n '/home/dsintern3/Documents/GitHub/Kaggle-2020-Alaska2/abba/models_predictions/LB/efficientnet_b4_NR_mish_probabilities_Test.csv',\n '/home/dsintern3/Documents/GitHub/Kaggle-2020-Alaska2/abba/models_predictions/LB/QF90_DCTR_votes_Test.csv',\n '/home/dsintern3/Documents/GitHub/Kaggle-2020-Alaska2/abba/models_predictions/LB/QF75_JRM_votes_Test.csv']"
     },
     "execution_count": 23,
     "metadata": {},
     "output_type": "execute_result"
    }
   ],
   "source": [
    "all_files"
   ],
   "metadata": {
    "collapsed": false,
    "pycharm": {
     "name": "#%%\n"
    }
   }
  },
  {
   "cell_type": "code",
   "execution_count": 11,
   "outputs": [
    {
     "ename": "TypeError",
     "evalue": "unsupported operand type(s) for +: 'NoneType' and 'str'",
     "output_type": "error",
     "traceback": [
      "\u001B[0;31m---------------------------------------------------------------------------\u001B[0m",
      "\u001B[0;31mTypeError\u001B[0m                                 Traceback (most recent call last)",
      "Input \u001B[0;32mIn [11]\u001B[0m, in \u001B[0;36m<cell line: 4>\u001B[0;34m()\u001B[0m\n\u001B[1;32m      2\u001B[0m \u001B[38;5;28;01mimport\u001B[39;00m \u001B[38;5;21;01mos\u001B[39;00m\n\u001B[1;32m      3\u001B[0m DATA_ROOT_PATH \u001B[38;5;241m=\u001B[39m os\u001B[38;5;241m.\u001B[39menviron\u001B[38;5;241m.\u001B[39mget(\u001B[38;5;124m'\u001B[39m\u001B[38;5;124mDATA_ROOT_PATH\u001B[39m\u001B[38;5;124m'\u001B[39m)\n\u001B[0;32m----> 4\u001B[0m total \u001B[38;5;241m=\u001B[39m os\u001B[38;5;241m.\u001B[39mlistdir(\u001B[43mDATA_ROOT_PATH\u001B[49m\u001B[38;5;241;43m+\u001B[39;49m\u001B[38;5;124;43m'\u001B[39;49m\u001B[38;5;124;43mCover\u001B[39;49m\u001B[38;5;124;43m'\u001B[39;49m)\n\u001B[1;32m      5\u001B[0m \u001B[38;5;28mlen\u001B[39m(total)\n",
      "\u001B[0;31mTypeError\u001B[0m: unsupported operand type(s) for +: 'NoneType' and 'str'"
     ]
    }
   ],
   "source": [
    "import torch\n",
    "import os\n",
    "DATA_ROOT_PATH = os.environ.get('DATA_ROOT_PATH')\n",
    "total = os.listdir(DATA_ROOT_PATH+'Cover')\n",
    "len(total)"
   ],
   "metadata": {
    "collapsed": false,
    "pycharm": {
     "name": "#%%\n"
    }
   }
  },
  {
   "cell_type": "code",
   "execution_count": 2,
   "outputs": [
    {
     "name": "stdout",
     "output_type": "stream",
     "text": [
      "False\n",
      "0\n"
     ]
    },
    {
     "name": "stderr",
     "output_type": "stream",
     "text": [
      "/home/dsintern3/anaconda3/lib/python3.9/site-packages/torch/cuda/__init__.py:83: UserWarning: CUDA initialization: CUDA unknown error - this may be due to an incorrectly set up environment, e.g. changing env variable CUDA_VISIBLE_DEVICES after program start. Setting the available devices to be zero. (Triggered internally at  ../c10/cuda/CUDAFunctions.cpp:109.)\n",
      "  return torch._C._cuda_getDeviceCount() > 0\n"
     ]
    }
   ],
   "source": [
    "import torch\n",
    "print(torch.cuda.is_available())\n",
    "print(torch.cuda.device_count())"
   ],
   "metadata": {
    "collapsed": false,
    "pycharm": {
     "name": "#%%\n"
    }
   }
  },
  {
   "cell_type": "code",
   "execution_count": 12,
   "outputs": [],
   "source": [
    "DATA_ROOT_PATH = os.environ.get('DATA_ROOT_PATH')\n",
    "DATA_ROOT_PATH"
   ],
   "metadata": {
    "collapsed": false,
    "pycharm": {
     "name": "#%%\n"
    }
   }
  },
  {
   "cell_type": "code",
   "execution_count": 8,
   "outputs": [],
   "source": [
    "def group_seeds(grouped_experiment, str_filter):\n",
    "    files = [f for f in all_files if str_filter in f]\n",
    "    dfs = [pd.read_csv(f, index_col=0) for f in files]\n",
    "    probabilities_zoo_lb = reduce(lambda left,right: pd.merge(left,right), dfs)\n",
    "    columns = list(probabilities_zoo_lb.columns)\n",
    "    columns.remove('NAME')\n",
    "    experiments = list(set([c.split('_p')[0] for c in columns[:]]))\n",
    "    probabilities_zoo_lb2 = pd.DataFrame(columns=['NAME', grouped_experiment+'_pc', grouped_experiment+'_pjm',\n",
    "                                                  grouped_experiment+'_pjuni', grouped_experiment+'_puerd'])\n",
    "    probabilities_zoo_lb2.NAME = probabilities_zoo_lb.NAME\n",
    "    grouped_probas = 0\n",
    "    for exp in experiments:\n",
    "        grouped_probas += probabilities_zoo_lb[[exp+'_pc', exp+'_pjm',exp+'_pjuni', exp+'_puerd']].values\n",
    "\n",
    "    grouped_probas /= len(experiments)\n",
    "    probabilities_zoo_lb2[[grouped_experiment+'_pc', grouped_experiment+'_pjm',\n",
    "                           grouped_experiment+'_pjuni', grouped_experiment+'_puerd']] = grouped_probas\n",
    "    [(os.remove(f), all_files.remove(f)) for f in files]\n",
    "    return probabilities_zoo_lb2, grouped_experiment+'_probabilities'"
   ],
   "metadata": {
    "collapsed": false,
    "pycharm": {
     "name": "#%%\n"
    }
   }
  },
  {
   "cell_type": "code",
   "execution_count": 11,
   "outputs": [
    {
     "data": {
      "text/plain": "        NAME  _pc  _pjm  _pjuni  _puerd\n0  00008.jpg  0.0   0.0     0.0     0.0",
      "text/html": "<div>\n<style scoped>\n    .dataframe tbody tr th:only-of-type {\n        vertical-align: middle;\n    }\n\n    .dataframe tbody tr th {\n        vertical-align: top;\n    }\n\n    .dataframe thead th {\n        text-align: right;\n    }\n</style>\n<table border=\"1\" class=\"dataframe\">\n  <thead>\n    <tr style=\"text-align: right;\">\n      <th></th>\n      <th>NAME</th>\n      <th>_pc</th>\n      <th>_pjm</th>\n      <th>_pjuni</th>\n      <th>_puerd</th>\n    </tr>\n  </thead>\n  <tbody>\n    <tr>\n      <th>0</th>\n      <td>00008.jpg</td>\n      <td>0.0</td>\n      <td>0.0</td>\n      <td>0.0</td>\n      <td>0.0</td>\n    </tr>\n  </tbody>\n</table>\n</div>"
     },
     "execution_count": 11,
     "metadata": {},
     "output_type": "execute_result"
    }
   ],
   "source": [
    "import pandas as pd\n",
    "pred_dataframe = pd.DataFrame(columns=['NAME', '_pc', '_pjm', '_pjuni', '_puerd'])\n",
    "file_name = '00008.jpg'\n",
    "pred_dataframe['NAME'] = [file_name]\n",
    "pred_dataframe[['_pc', '_pjm', '_pjuni', '_puerd']] = 0.0\n",
    "pred_dataframe"
   ],
   "metadata": {
    "collapsed": false,
    "pycharm": {
     "name": "#%%\n"
    }
   }
  },
  {
   "cell_type": "code",
   "execution_count": 37,
   "outputs": [],
   "source": [
    "probabilities_zoo_lb = pd.read_csv('/home/dsintern3/Documents/GitHub/alaska2/models_predictions/LB/probabilities_zoo_lb.csv')\n",
    "group = 'efficientnet_b2'\n",
    "for name_suffix in ['_pc','_pjm','_pjuni','_puerd']:\n",
    "    column1 = group+'_NR'+ name_suffix\n",
    "    column2 = group+'_R'+name_suffix\n",
    "    new_column = group+name_suffix\n",
    "    probabilities_zoo_lb[new_column] = (probabilities_zoo_lb[column1]+probabilities_zoo_lb[column2])/2\n",
    "    probabilities_zoo_lb = probabilities_zoo_lb.drop(columns=[column1,column2])\n",
    "probabilities_zoo_lb.to_csv('/home/dsintern3/Documents/GitHub/alaska2/models_predictions/LB/probabilities_zoo_lb.csv')"
   ],
   "metadata": {
    "collapsed": false,
    "pycharm": {
     "name": "#%%\n"
    }
   }
  },
  {
   "cell_type": "code",
   "execution_count": 38,
   "outputs": [
    {
     "data": {
      "text/plain": "Index(['Unnamed: 0', 'NAME', 'efficientnet_b5_NR_pc', 'efficientnet_b5_NR_pjm',\n       'efficientnet_b5_NR_pjuni', 'efficientnet_b5_NR_puerd', 'DCTR',\n       'mixnet_S_pc', 'mixnet_S_pjm', 'mixnet_S_pjuni', 'mixnet_S_puerd',\n       'mixnet_xL_NR_mish_pc', 'mixnet_xL_NR_mish_pjm',\n       'mixnet_xL_NR_mish_pjuni', 'mixnet_xL_NR_mish_puerd', 'JRM', 'QF',\n       'efficientnet_b4_NR_pc', 'efficientnet_b4_NR_pjm',\n       'efficientnet_b4_NR_pjuni', 'efficientnet_b4_NR_puerd', 'cate', 'label',\n       'efficientnet_b2_pc', 'efficientnet_b2_pjm', 'efficientnet_b2_pjuni',\n       'efficientnet_b2_puerd'],\n      dtype='object')"
     },
     "execution_count": 38,
     "metadata": {},
     "output_type": "execute_result"
    }
   ],
   "source": [
    "probabilities_zoo_lb.columns"
   ],
   "metadata": {
    "collapsed": false,
    "pycharm": {
     "name": "#%%\n"
    }
   }
  },
  {
   "cell_type": "code",
   "execution_count": 39,
   "outputs": [],
   "source": [
    "df = pd.read_csv('/home/dsintern3/Documents/GitHub/alaska2/models_predictions/LB/probabilities_zoo_Test_0000.csv')\n",
    "df = df.rename(columns={\n",
    "    # 'efficientnet_b5_NR_mish_pc': 'efficientnet_b5_NR_pc', 'efficientnet_b5_NR_mish_pjm': 'efficientnet_b5_NR_pjm','efficientnet_b5_NR_mish_pjuni':'efficientnet_b5_NR_pjuni','efficientnet_b5_NR_mish_puerd':'efficientnet_b5_NR_puerd','efficientnet_b4_NR_mish_pc':'efficientnet_b4_NR_pc','efficientnet_b4_NR_mish_pjm':'efficientnet_b4_NR_pjm','efficientnet_b4_NR_mish_pjuni':'efficientnet_b4_NR_pjuni',\n",
    "    'efficientnet_b4_NR_mish_puerd':'efficientnet_b4_NR_puerd'})\n",
    "df.to_csv('/home/dsintern3/Documents/GitHub/alaska2/models_predictions/LB/probabilities_zoo_Test_0000.csv')"
   ],
   "metadata": {
    "collapsed": false,
    "pycharm": {
     "name": "#%%\n"
    }
   }
  },
  {
   "cell_type": "code",
   "execution_count": 9,
   "outputs": [],
   "source": [
    "probabilities_zoo_lb_b2, grouped_experiment = group_seeds('efficientnet_b2', 'b2')"
   ],
   "metadata": {
    "collapsed": false,
    "pycharm": {
     "name": "#%%\n"
    }
   }
  },
  {
   "cell_type": "code",
   "execution_count": 11,
   "outputs": [
    {
     "data": {
      "text/plain": "                NAME  efficientnet_b2_pc  efficientnet_b2_pjm  \\\n0    69253_Cover.jpg            0.186039             0.813934   \n1    10336_Cover.jpg            0.315105             0.684837   \n2    38093_Cover.jpg            0.187558             0.811846   \n3    72415_Cover.jpg            0.003470             0.996147   \n4    55583_Cover.jpg            0.771198             0.009965   \n..               ...                 ...                  ...   \n995  39854_Cover.jpg            0.429837             0.416678   \n996  29146_Cover.jpg            0.691979             0.009542   \n997  76861_Cover.jpg            0.182987             0.773723   \n998  17093_Cover.jpg            0.547891             0.331006   \n999  03076_Cover.jpg            0.521335             0.016321   \n\n     efficientnet_b2_pjuni  efficientnet_b2_puerd  \n0                 0.000025           1.576777e-06  \n1                 0.000059           3.420457e-16  \n2                 0.000597           5.845928e-16  \n3                 0.000327           5.614983e-05  \n4                 0.093947           1.248903e-01  \n..                     ...                    ...  \n995               0.062004           9.148093e-02  \n996               0.141545           1.569346e-01  \n997               0.027260           1.602960e-02  \n998               0.090547           3.055631e-02  \n999               0.180046           2.822974e-01  \n\n[1000 rows x 5 columns]",
      "text/html": "<div>\n<style scoped>\n    .dataframe tbody tr th:only-of-type {\n        vertical-align: middle;\n    }\n\n    .dataframe tbody tr th {\n        vertical-align: top;\n    }\n\n    .dataframe thead th {\n        text-align: right;\n    }\n</style>\n<table border=\"1\" class=\"dataframe\">\n  <thead>\n    <tr style=\"text-align: right;\">\n      <th></th>\n      <th>NAME</th>\n      <th>efficientnet_b2_pc</th>\n      <th>efficientnet_b2_pjm</th>\n      <th>efficientnet_b2_pjuni</th>\n      <th>efficientnet_b2_puerd</th>\n    </tr>\n  </thead>\n  <tbody>\n    <tr>\n      <th>0</th>\n      <td>69253_Cover.jpg</td>\n      <td>0.186039</td>\n      <td>0.813934</td>\n      <td>0.000025</td>\n      <td>1.576777e-06</td>\n    </tr>\n    <tr>\n      <th>1</th>\n      <td>10336_Cover.jpg</td>\n      <td>0.315105</td>\n      <td>0.684837</td>\n      <td>0.000059</td>\n      <td>3.420457e-16</td>\n    </tr>\n    <tr>\n      <th>2</th>\n      <td>38093_Cover.jpg</td>\n      <td>0.187558</td>\n      <td>0.811846</td>\n      <td>0.000597</td>\n      <td>5.845928e-16</td>\n    </tr>\n    <tr>\n      <th>3</th>\n      <td>72415_Cover.jpg</td>\n      <td>0.003470</td>\n      <td>0.996147</td>\n      <td>0.000327</td>\n      <td>5.614983e-05</td>\n    </tr>\n    <tr>\n      <th>4</th>\n      <td>55583_Cover.jpg</td>\n      <td>0.771198</td>\n      <td>0.009965</td>\n      <td>0.093947</td>\n      <td>1.248903e-01</td>\n    </tr>\n    <tr>\n      <th>...</th>\n      <td>...</td>\n      <td>...</td>\n      <td>...</td>\n      <td>...</td>\n      <td>...</td>\n    </tr>\n    <tr>\n      <th>995</th>\n      <td>39854_Cover.jpg</td>\n      <td>0.429837</td>\n      <td>0.416678</td>\n      <td>0.062004</td>\n      <td>9.148093e-02</td>\n    </tr>\n    <tr>\n      <th>996</th>\n      <td>29146_Cover.jpg</td>\n      <td>0.691979</td>\n      <td>0.009542</td>\n      <td>0.141545</td>\n      <td>1.569346e-01</td>\n    </tr>\n    <tr>\n      <th>997</th>\n      <td>76861_Cover.jpg</td>\n      <td>0.182987</td>\n      <td>0.773723</td>\n      <td>0.027260</td>\n      <td>1.602960e-02</td>\n    </tr>\n    <tr>\n      <th>998</th>\n      <td>17093_Cover.jpg</td>\n      <td>0.547891</td>\n      <td>0.331006</td>\n      <td>0.090547</td>\n      <td>3.055631e-02</td>\n    </tr>\n    <tr>\n      <th>999</th>\n      <td>03076_Cover.jpg</td>\n      <td>0.521335</td>\n      <td>0.016321</td>\n      <td>0.180046</td>\n      <td>2.822974e-01</td>\n    </tr>\n  </tbody>\n</table>\n<p>1000 rows × 5 columns</p>\n</div>"
     },
     "execution_count": 11,
     "metadata": {},
     "output_type": "execute_result"
    }
   ],
   "source": [
    "probabilities_zoo_lb_b2"
   ],
   "metadata": {
    "collapsed": false,
    "pycharm": {
     "name": "#%%\n"
    }
   }
  },
  {
   "cell_type": "code",
   "execution_count": 15,
   "outputs": [],
   "source": [
    "probabilities_zoo_lb_b2.to_csv(os.path.join(output, grouped_experiment+'_'+folder_subpath+'.csv'))"
   ],
   "metadata": {
    "collapsed": false,
    "pycharm": {
     "name": "#%%\n"
    }
   }
  },
  {
   "cell_type": "code",
   "execution_count": 19,
   "outputs": [
    {
     "ename": "TypeError",
     "evalue": "reduce() of empty sequence with no initial value",
     "output_type": "error",
     "traceback": [
      "\u001B[0;31m---------------------------------------------------------------------------\u001B[0m",
      "\u001B[0;31mTypeError\u001B[0m                                 Traceback (most recent call last)",
      "\u001B[0;32m/tmp/ipykernel_9184/2177708323.py\u001B[0m in \u001B[0;36m<module>\u001B[0;34m\u001B[0m\n\u001B[0;32m----> 1\u001B[0;31m \u001B[0mprobabilities_zoo_lb_mixnet_S\u001B[0m\u001B[0;34m,\u001B[0m \u001B[0mgrouped_experiment\u001B[0m \u001B[0;34m=\u001B[0m \u001B[0mgroup_seeds\u001B[0m\u001B[0;34m(\u001B[0m\u001B[0;34m'mixnet_S'\u001B[0m\u001B[0;34m,\u001B[0m \u001B[0;34m'mixnet_S'\u001B[0m\u001B[0;34m)\u001B[0m\u001B[0;34m\u001B[0m\u001B[0;34m\u001B[0m\u001B[0m\n\u001B[0m\u001B[1;32m      2\u001B[0m \u001B[0mprobabilities_zoo_lb_mixnet_S\u001B[0m\u001B[0;34m.\u001B[0m\u001B[0mto_csv\u001B[0m\u001B[0;34m(\u001B[0m\u001B[0mos\u001B[0m\u001B[0;34m.\u001B[0m\u001B[0mpath\u001B[0m\u001B[0;34m.\u001B[0m\u001B[0mjoin\u001B[0m\u001B[0;34m(\u001B[0m\u001B[0moutput\u001B[0m\u001B[0;34m,\u001B[0m \u001B[0mgrouped_experiment\u001B[0m\u001B[0;34m+\u001B[0m\u001B[0;34m'_'\u001B[0m\u001B[0;34m+\u001B[0m\u001B[0mfolder_subpath\u001B[0m\u001B[0;34m+\u001B[0m\u001B[0;34m'.csv'\u001B[0m\u001B[0;34m)\u001B[0m\u001B[0;34m)\u001B[0m\u001B[0;34m\u001B[0m\u001B[0;34m\u001B[0m\u001B[0m\n",
      "\u001B[0;32m/tmp/ipykernel_9184/1432477037.py\u001B[0m in \u001B[0;36mgroup_seeds\u001B[0;34m(grouped_experiment, str_filter)\u001B[0m\n\u001B[1;32m      2\u001B[0m     \u001B[0mfiles\u001B[0m \u001B[0;34m=\u001B[0m \u001B[0;34m[\u001B[0m\u001B[0mf\u001B[0m \u001B[0;32mfor\u001B[0m \u001B[0mf\u001B[0m \u001B[0;32min\u001B[0m \u001B[0mall_files\u001B[0m \u001B[0;32mif\u001B[0m \u001B[0mstr_filter\u001B[0m \u001B[0;32min\u001B[0m \u001B[0mf\u001B[0m\u001B[0;34m]\u001B[0m\u001B[0;34m\u001B[0m\u001B[0;34m\u001B[0m\u001B[0m\n\u001B[1;32m      3\u001B[0m     \u001B[0mdfs\u001B[0m \u001B[0;34m=\u001B[0m \u001B[0;34m[\u001B[0m\u001B[0mpd\u001B[0m\u001B[0;34m.\u001B[0m\u001B[0mread_csv\u001B[0m\u001B[0;34m(\u001B[0m\u001B[0mf\u001B[0m\u001B[0;34m,\u001B[0m \u001B[0mindex_col\u001B[0m\u001B[0;34m=\u001B[0m\u001B[0;36m0\u001B[0m\u001B[0;34m)\u001B[0m \u001B[0;32mfor\u001B[0m \u001B[0mf\u001B[0m \u001B[0;32min\u001B[0m \u001B[0mfiles\u001B[0m\u001B[0;34m]\u001B[0m\u001B[0;34m\u001B[0m\u001B[0;34m\u001B[0m\u001B[0m\n\u001B[0;32m----> 4\u001B[0;31m     \u001B[0mprobabilities_zoo_lb\u001B[0m \u001B[0;34m=\u001B[0m \u001B[0mreduce\u001B[0m\u001B[0;34m(\u001B[0m\u001B[0;32mlambda\u001B[0m \u001B[0mleft\u001B[0m\u001B[0;34m,\u001B[0m\u001B[0mright\u001B[0m\u001B[0;34m:\u001B[0m \u001B[0mpd\u001B[0m\u001B[0;34m.\u001B[0m\u001B[0mmerge\u001B[0m\u001B[0;34m(\u001B[0m\u001B[0mleft\u001B[0m\u001B[0;34m,\u001B[0m\u001B[0mright\u001B[0m\u001B[0;34m)\u001B[0m\u001B[0;34m,\u001B[0m \u001B[0mdfs\u001B[0m\u001B[0;34m)\u001B[0m\u001B[0;34m\u001B[0m\u001B[0;34m\u001B[0m\u001B[0m\n\u001B[0m\u001B[1;32m      5\u001B[0m     \u001B[0mcolumns\u001B[0m \u001B[0;34m=\u001B[0m \u001B[0mlist\u001B[0m\u001B[0;34m(\u001B[0m\u001B[0mprobabilities_zoo_lb\u001B[0m\u001B[0;34m.\u001B[0m\u001B[0mcolumns\u001B[0m\u001B[0;34m)\u001B[0m\u001B[0;34m\u001B[0m\u001B[0;34m\u001B[0m\u001B[0m\n\u001B[1;32m      6\u001B[0m     \u001B[0mcolumns\u001B[0m\u001B[0;34m.\u001B[0m\u001B[0mremove\u001B[0m\u001B[0;34m(\u001B[0m\u001B[0;34m'NAME'\u001B[0m\u001B[0;34m)\u001B[0m\u001B[0;34m\u001B[0m\u001B[0;34m\u001B[0m\u001B[0m\n",
      "\u001B[0;31mTypeError\u001B[0m: reduce() of empty sequence with no initial value"
     ]
    }
   ],
   "source": [
    "probabilities_zoo_lb_mixnet_S, grouped_experiment = group_seeds('mixnet_S', 'mixnet_S')\n",
    "probabilities_zoo_lb_mixnet_S.to_csv(os.path.join(output, grouped_experiment+'_'+folder_subpath+'.csv'))"
   ],
   "metadata": {
    "collapsed": false,
    "pycharm": {
     "name": "#%%\n"
    }
   }
  },
  {
   "cell_type": "code",
   "execution_count": 20,
   "outputs": [
    {
     "name": "stdout",
     "output_type": "stream",
     "text": [
      "['/home/dsintern3/Documents/GitHub/alaska2/models_predictions/for_nsf5/mixnet_xl_Test.csv', '/home/dsintern3/Documents/GitHub/alaska2/models_predictions/for_nsf5/efficientnet_b5_Test.csv', '/home/dsintern3/Documents/GitHub/alaska2/models_predictions/for_nsf5/mixnet_S_Test.csv', '/home/dsintern3/Documents/GitHub/alaska2/models_predictions/for_nsf5/efficientnet_b4_Test.csv', '/home/dsintern3/Documents/GitHub/alaska2/models_predictions/for_nsf5/efficientnet_b2_probabilities_Test.csv', '/home/dsintern3/Documents/GitHub/alaska2/models_predictions/for_nsf5/QF75_DCTR_votes_Test.csv', '/home/dsintern3/Documents/GitHub/alaska2/models_predictions/for_nsf5/QF75_JRM_votes_Test.csv']\n"
     ]
    }
   ],
   "source": [
    "import glob\n",
    "import os\n",
    "import pandas as pd\n",
    "output = '/home/dsintern3/Documents/GitHub/alaska2/models_predictions/for_nsf5/'\n",
    "all_files = glob.glob(os.path.join(output,'*'+'Test.csv'))\n",
    "print(all_files)\n",
    "dfs = [pd.read_csv(f, index_col=0) for f in all_files]"
   ],
   "metadata": {
    "collapsed": false,
    "pycharm": {
     "name": "#%%\n"
    }
   }
  },
  {
   "cell_type": "code",
   "execution_count": 21,
   "outputs": [],
   "source": [
    "from functools import reduce\n",
    "probabilities_zoo_lb = reduce(lambda left,right: pd.merge(left,right), dfs)"
   ],
   "metadata": {
    "collapsed": false,
    "pycharm": {
     "name": "#%%\n"
    }
   }
  },
  {
   "cell_type": "code",
   "execution_count": 22,
   "outputs": [
    {
     "name": "stdout",
     "output_type": "stream",
     "text": [
      "              NAME       JRM\n",
      "0  000001Cover.jpg -0.015783\n",
      "1   000001nsf5.jpg -0.077563\n",
      "2  000020Cover.jpg  0.109823\n",
      "3   000020nsf5.jpg -0.482682\n",
      "4  000191Cover.jpg -0.040965\n"
     ]
    }
   ],
   "source": [
    "print(dfs[6].head())"
   ],
   "metadata": {
    "collapsed": false,
    "pycharm": {
     "name": "#%%\n"
    }
   }
  },
  {
   "cell_type": "code",
   "execution_count": 23,
   "outputs": [
    {
     "data": {
      "text/plain": "                 NAME  mixnet_xl_pc  mixnet_xl_pnsf5  efficientnet_b5_pc  \\\n0      000610nsf5.jpg      0.499219         0.500781            0.502844   \n1      059380nsf5.jpg      0.499771         0.500229            0.499724   \n2      083285nsf5.jpg      0.499746         0.500254            0.500570   \n3     062985Cover.jpg      0.499657         0.500343            0.504246   \n4      021448nsf5.jpg      0.499844         0.500156            0.500499   \n...               ...           ...              ...                 ...   \n1995   046979nsf5.jpg      0.499670         0.500330            0.503218   \n1996  078757Cover.jpg      0.499721         0.500279            0.503786   \n1997   088945nsf5.jpg      0.499776         0.500224            0.499787   \n1998   045284nsf5.jpg      0.499653         0.500347            0.503693   \n1999   061459nsf5.jpg      0.499720         0.500280            0.504045   \n\n      efficientnet_b5_pnsf5  mixnet_S_pc  mixnet_S_pnsf5  efficientnet_b4_pc  \\\n0                  0.497156     0.511010        0.488990            0.395186   \n1                  0.500276     0.505146        0.494854            0.573784   \n2                  0.499429     0.507410        0.492590            0.517654   \n3                  0.495754     0.509217        0.490783            0.481929   \n4                  0.499501     0.505378        0.494622            0.489460   \n...                     ...          ...             ...                 ...   \n1995               0.496782     0.508949        0.491051            0.416305   \n1996               0.496214     0.503495        0.496506            0.552598   \n1997               0.500213     0.502999        0.497001            0.494301   \n1998               0.496307     0.504714        0.495286            0.468239   \n1999               0.495955     0.508930        0.491070            0.454728   \n\n      efficientnet_b4_pnsf5  efficientnet_b2_pc  efficientnet_b2_pnsf5  \\\n0                  0.604814            0.480497               0.519503   \n1                  0.426216            0.505733               0.494267   \n2                  0.482346            0.491237               0.508763   \n3                  0.518071            0.458421               0.541579   \n4                  0.510540            0.470648               0.529352   \n...                     ...                 ...                    ...   \n1995               0.583695            0.453278               0.546722   \n1996               0.447402            0.438613               0.561387   \n1997               0.505699            0.498867               0.501133   \n1998               0.531761            0.483102               0.516897   \n1999               0.545272            0.486481               0.513519   \n\n          DCTR       JRM  \n0    -0.030278 -0.127167  \n1    -0.369507  0.152043  \n2    -0.244951  0.299465  \n3    -0.156182 -0.232517  \n4     0.068914  0.357679  \n...        ...       ...  \n1995 -0.098643 -0.296948  \n1996  0.265374  0.419473  \n1997  0.361187 -0.431146  \n1998  0.424029  0.206504  \n1999  0.400047  0.279035  \n\n[2000 rows x 13 columns]",
      "text/html": "<div>\n<style scoped>\n    .dataframe tbody tr th:only-of-type {\n        vertical-align: middle;\n    }\n\n    .dataframe tbody tr th {\n        vertical-align: top;\n    }\n\n    .dataframe thead th {\n        text-align: right;\n    }\n</style>\n<table border=\"1\" class=\"dataframe\">\n  <thead>\n    <tr style=\"text-align: right;\">\n      <th></th>\n      <th>NAME</th>\n      <th>mixnet_xl_pc</th>\n      <th>mixnet_xl_pnsf5</th>\n      <th>efficientnet_b5_pc</th>\n      <th>efficientnet_b5_pnsf5</th>\n      <th>mixnet_S_pc</th>\n      <th>mixnet_S_pnsf5</th>\n      <th>efficientnet_b4_pc</th>\n      <th>efficientnet_b4_pnsf5</th>\n      <th>efficientnet_b2_pc</th>\n      <th>efficientnet_b2_pnsf5</th>\n      <th>DCTR</th>\n      <th>JRM</th>\n    </tr>\n  </thead>\n  <tbody>\n    <tr>\n      <th>0</th>\n      <td>000610nsf5.jpg</td>\n      <td>0.499219</td>\n      <td>0.500781</td>\n      <td>0.502844</td>\n      <td>0.497156</td>\n      <td>0.511010</td>\n      <td>0.488990</td>\n      <td>0.395186</td>\n      <td>0.604814</td>\n      <td>0.480497</td>\n      <td>0.519503</td>\n      <td>-0.030278</td>\n      <td>-0.127167</td>\n    </tr>\n    <tr>\n      <th>1</th>\n      <td>059380nsf5.jpg</td>\n      <td>0.499771</td>\n      <td>0.500229</td>\n      <td>0.499724</td>\n      <td>0.500276</td>\n      <td>0.505146</td>\n      <td>0.494854</td>\n      <td>0.573784</td>\n      <td>0.426216</td>\n      <td>0.505733</td>\n      <td>0.494267</td>\n      <td>-0.369507</td>\n      <td>0.152043</td>\n    </tr>\n    <tr>\n      <th>2</th>\n      <td>083285nsf5.jpg</td>\n      <td>0.499746</td>\n      <td>0.500254</td>\n      <td>0.500570</td>\n      <td>0.499429</td>\n      <td>0.507410</td>\n      <td>0.492590</td>\n      <td>0.517654</td>\n      <td>0.482346</td>\n      <td>0.491237</td>\n      <td>0.508763</td>\n      <td>-0.244951</td>\n      <td>0.299465</td>\n    </tr>\n    <tr>\n      <th>3</th>\n      <td>062985Cover.jpg</td>\n      <td>0.499657</td>\n      <td>0.500343</td>\n      <td>0.504246</td>\n      <td>0.495754</td>\n      <td>0.509217</td>\n      <td>0.490783</td>\n      <td>0.481929</td>\n      <td>0.518071</td>\n      <td>0.458421</td>\n      <td>0.541579</td>\n      <td>-0.156182</td>\n      <td>-0.232517</td>\n    </tr>\n    <tr>\n      <th>4</th>\n      <td>021448nsf5.jpg</td>\n      <td>0.499844</td>\n      <td>0.500156</td>\n      <td>0.500499</td>\n      <td>0.499501</td>\n      <td>0.505378</td>\n      <td>0.494622</td>\n      <td>0.489460</td>\n      <td>0.510540</td>\n      <td>0.470648</td>\n      <td>0.529352</td>\n      <td>0.068914</td>\n      <td>0.357679</td>\n    </tr>\n    <tr>\n      <th>...</th>\n      <td>...</td>\n      <td>...</td>\n      <td>...</td>\n      <td>...</td>\n      <td>...</td>\n      <td>...</td>\n      <td>...</td>\n      <td>...</td>\n      <td>...</td>\n      <td>...</td>\n      <td>...</td>\n      <td>...</td>\n      <td>...</td>\n    </tr>\n    <tr>\n      <th>1995</th>\n      <td>046979nsf5.jpg</td>\n      <td>0.499670</td>\n      <td>0.500330</td>\n      <td>0.503218</td>\n      <td>0.496782</td>\n      <td>0.508949</td>\n      <td>0.491051</td>\n      <td>0.416305</td>\n      <td>0.583695</td>\n      <td>0.453278</td>\n      <td>0.546722</td>\n      <td>-0.098643</td>\n      <td>-0.296948</td>\n    </tr>\n    <tr>\n      <th>1996</th>\n      <td>078757Cover.jpg</td>\n      <td>0.499721</td>\n      <td>0.500279</td>\n      <td>0.503786</td>\n      <td>0.496214</td>\n      <td>0.503495</td>\n      <td>0.496506</td>\n      <td>0.552598</td>\n      <td>0.447402</td>\n      <td>0.438613</td>\n      <td>0.561387</td>\n      <td>0.265374</td>\n      <td>0.419473</td>\n    </tr>\n    <tr>\n      <th>1997</th>\n      <td>088945nsf5.jpg</td>\n      <td>0.499776</td>\n      <td>0.500224</td>\n      <td>0.499787</td>\n      <td>0.500213</td>\n      <td>0.502999</td>\n      <td>0.497001</td>\n      <td>0.494301</td>\n      <td>0.505699</td>\n      <td>0.498867</td>\n      <td>0.501133</td>\n      <td>0.361187</td>\n      <td>-0.431146</td>\n    </tr>\n    <tr>\n      <th>1998</th>\n      <td>045284nsf5.jpg</td>\n      <td>0.499653</td>\n      <td>0.500347</td>\n      <td>0.503693</td>\n      <td>0.496307</td>\n      <td>0.504714</td>\n      <td>0.495286</td>\n      <td>0.468239</td>\n      <td>0.531761</td>\n      <td>0.483102</td>\n      <td>0.516897</td>\n      <td>0.424029</td>\n      <td>0.206504</td>\n    </tr>\n    <tr>\n      <th>1999</th>\n      <td>061459nsf5.jpg</td>\n      <td>0.499720</td>\n      <td>0.500280</td>\n      <td>0.504045</td>\n      <td>0.495955</td>\n      <td>0.508930</td>\n      <td>0.491070</td>\n      <td>0.454728</td>\n      <td>0.545272</td>\n      <td>0.486481</td>\n      <td>0.513519</td>\n      <td>0.400047</td>\n      <td>0.279035</td>\n    </tr>\n  </tbody>\n</table>\n<p>2000 rows × 13 columns</p>\n</div>"
     },
     "execution_count": 23,
     "metadata": {},
     "output_type": "execute_result"
    }
   ],
   "source": [
    "probabilities_zoo_lb"
   ],
   "metadata": {
    "collapsed": false,
    "pycharm": {
     "name": "#%%\n"
    }
   }
  },
  {
   "cell_type": "code",
   "execution_count": 12,
   "outputs": [],
   "source": [
    "def group_seeds(grouped_experiment, str_filter,all_files):\n",
    "\n",
    "    files = [f for f in all_files if str_filter in f]\n",
    "    print('hey hey;', files)\n",
    "    dfs = [pd.read_csv(f, index_col=0) for f in files] if len(files) != 1 else pd.read_csv(files[0], index_col=0)\n",
    "\n",
    "    probabilities_zoo_lb = reduce(lambda left, right: pd.merge(left, right), dfs) if len(files) != 1 else dfs\n",
    "    print(probabilities_zoo_lb)\n",
    "    columns = list(probabilities_zoo_lb.columns)\n",
    "    columns.remove('NAME')\n",
    "    experiments = list(set([c.split('_p')[0] for c in columns[:]]))\n",
    "\n",
    "    columns_name = [grouped_experiment + '_pc', grouped_experiment + '_pjm', grouped_experiment + '_pjuni',\n",
    "                    grouped_experiment + '_puerd']\n",
    "    column_list = ['NAME', grouped_experiment + '_pc', grouped_experiment + '_pjm',\n",
    "                   grouped_experiment + '_pjuni',\n",
    "                   grouped_experiment + '_puerd']\n",
    "\n",
    "    # elif subset == 'for_nsf5':\n",
    "    #     columns_name = [grouped_experiment + '_pc', grouped_experiment + '_pnsf5']\n",
    "    #     column_list = ['NAME', grouped_experiment + '_pc', grouped_experiment + '_pnsf5']\n",
    "    probabilities_zoo_lb2 = pd.DataFrame(columns=column_list)\n",
    "    probabilities_zoo_lb2.NAME = probabilities_zoo_lb.NAME\n",
    "    grouped_probas = 0\n",
    "    for exp in experiments:\n",
    "        # if subset == '3Algorithms':\n",
    "        grouped_probas =grouped_probas+ probabilities_zoo_lb[[exp+'_pc', exp+'_pjm',exp+'_pjuni', exp+'_puerd']].values\n",
    "        # else:\n",
    "        #     grouped_probas += probabilities_zoo_lb[[exp+'_pc', exp+'_pnsf5']].values\n",
    "\n",
    "    grouped_probas /= len(experiments)\n",
    "    probabilities_zoo_lb2[columns_name] = grouped_probas\n",
    "    # [(os.remove(f), all_files.remove(f)) for f in files]\n",
    "    return probabilities_zoo_lb2, grouped_experiment + '_probabilities'"
   ],
   "metadata": {
    "collapsed": false,
    "pycharm": {
     "name": "#%%\n"
    }
   }
  },
  {
   "cell_type": "code",
   "execution_count": 13,
   "outputs": [
    {
     "name": "stdout",
     "output_type": "stream",
     "text": [
      "hey hey; ['/home/dsintern3/Documents/GitHub/alaska2/models_predictions/3Algorithms/efficientnet_b2_NR_Test.csv', '/home/dsintern3/Documents/GitHub/alaska2/models_predictions/3Algorithms/efficientnet_b2_probabilities_Test.csv', '/home/dsintern3/Documents/GitHub/alaska2/models_predictions/3Algorithms/efficientnet_b2_R_Test.csv']\n",
      "Empty DataFrame\n",
      "Columns: [efficientnet_b2_NR_pc, efficientnet_b2_NR_pjm, efficientnet_b2_NR_pjuni, efficientnet_b2_NR_puerd, efficientnet_b2_pc, efficientnet_b2_pjm, efficientnet_b2_pjuni, efficientnet_b2_puerd, NAME, efficientnet_b2_R_pc, efficientnet_b2_R_pjm, efficientnet_b2_R_pjuni, efficientnet_b2_R_puerd]\n",
      "Index: []\n"
     ]
    }
   ],
   "source": [
    "import glob,os\n",
    "import pandas as pd\n",
    "from functools import reduce\n",
    "all_files = glob.glob(os.path.join('/home/dsintern3/Documents/GitHub/alaska2/models_predictions/3Algorithms','*' + 'Test' + '.csv'))\n",
    "\n",
    "probabilities_zoo_lb_b2, grouped_experiment = group_seeds('efficientnet_b2', 'b2',all_files=all_files)"
   ],
   "metadata": {
    "collapsed": false,
    "pycharm": {
     "name": "#%%\n"
    }
   }
  },
  {
   "cell_type": "code",
   "execution_count": 3,
   "outputs": [],
   "source": [
    "m=False\n",
    "if m:\n",
    "    print('hello')\n",
    "# else:\n",
    "#     print('no way')"
   ],
   "metadata": {
    "collapsed": false,
    "pycharm": {
     "name": "#%%\n"
    }
   }
  },
  {
   "cell_type": "code",
   "execution_count": 3,
   "outputs": [
    {
     "name": "stdout",
     "output_type": "stream",
     "text": [
      "Loaded pretrained weights for efficientnet-b4\n"
     ]
    },
    {
     "data": {
      "text/plain": "<All keys matched successfully>"
     },
     "execution_count": 3,
     "metadata": {},
     "output_type": "execute_result"
    }
   ],
   "source": [
    "# want to check the size of the model\n",
    "import os, sys\n",
    "sys.path.insert(1,'./')\n",
    "from train_module.zoo.models import *\n",
    "from train_module.zoo.surgery import *\n",
    "from train_module.datafeeding.retriever import *\n",
    "from train_module.tools.torch_utils import *\n",
    "\n",
    "model = 'efficientnet-b4'\n",
    "checkpoint = '/home/dsintern3/Documents/GitHub/Steganography_V1/weights/efficientnet_b4_NR_mish/best-checkpoint-017epoch.bin'\n",
    "device = 'cuda:0'\n",
    "net = get_net('efficientnet-b4')\n",
    "net = net.cuda('cuda:0')\n",
    "checkpoint = torch.load(checkpoint, map_location=device)\n",
    "net.load_state_dict(checkpoint['model_state_dict'])"
   ],
   "metadata": {
    "collapsed": false,
    "pycharm": {
     "name": "#%%\n"
    }
   }
  }
 ],
 "metadata": {
  "kernelspec": {
   "display_name": "Python 3",
   "language": "python",
   "name": "python3"
  },
  "language_info": {
   "codemirror_mode": {
    "name": "ipython",
    "version": 2
   },
   "file_extension": ".py",
   "mimetype": "text/x-python",
   "name": "python",
   "nbconvert_exporter": "python",
   "pygments_lexer": "ipython2",
   "version": "2.7.6"
  }
 },
 "nbformat": 4,
 "nbformat_minor": 0
}