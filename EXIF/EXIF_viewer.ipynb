{
 "cells": [
  {
   "cell_type": "code",
   "execution_count": 2,
   "metadata": {
    "collapsed": true,
    "pycharm": {
     "name": "#%%\n"
    }
   },
   "outputs": [],
   "source": [
    "# Dependencies\n",
    "from PIL import Image, ExifTags\n",
    "\n",
    "import piexif"
   ]
  },
  {
   "cell_type": "code",
   "execution_count": 26,
   "outputs": [
    {
     "name": "stdout",
     "output_type": "stream",
     "text": [
      "0\n"
     ]
    }
   ],
   "source": [
    "img = Image.open('/home/dsintern3/Documents/GitHub/Steganography/Test_images/Image-02.jpg')\n",
    "img_exif = img.getexif()\n",
    "print(len(img_exif.items()))\n",
    "# <class 'PIL.Image.Exif'>"
   ],
   "metadata": {
    "collapsed": false,
    "pycharm": {
     "name": "#%%\n"
    }
   }
  },
  {
   "cell_type": "code",
   "execution_count": 13,
   "outputs": [
    {
     "name": "stdout",
     "output_type": "stream",
     "text": [
      "305 piexif\n",
      "Software:piexif\n",
      "34853 226\n",
      "GPSInfo:226\n",
      "34665 115\n",
      "ExifOffset:115\n",
      "282 96.0\n",
      "XResolution:96.0\n",
      "283 96.0\n",
      "YResolution:96.0\n",
      "271 Canon\n",
      "Make:Canon\n"
     ]
    }
   ],
   "source": [
    "if img_exif is None:\n",
    "    print('Sorry, image has no exif data.')\n",
    "else:\n",
    "    for key, val in img_exif.items():\n",
    "        print(key,val)\n",
    "        if key in ExifTags.TAGS:\n",
    "            print(f'{ExifTags.TAGS[key]}:{val}')"
   ],
   "metadata": {
    "collapsed": false,
    "pycharm": {
     "name": "#%%\n"
    }
   }
  },
  {
   "cell_type": "code",
   "execution_count": 34,
   "outputs": [],
   "source": [
    "import os\n",
    "def convert_img(output_dir,img_name):\n",
    "    img_path = '/home/dsintern3/Documents/GitHub/Steganography/Test_images/'+img_name+'.png'\n",
    "    img = Image.open(img_path)\n",
    "    if img.mode == \"P\":\n",
    "        img = img.convert('RGB')\n",
    "    img_name = img_name+'.jpg'\n",
    "    img.save(os.path.join(output_dir,img_name))\n",
    "\n",
    "convert_img('/home/dsintern3/Documents/GitHub/Steganography/Test_images/','Image-02')"
   ],
   "metadata": {
    "collapsed": false,
    "pycharm": {
     "name": "#%%\n"
    }
   }
  },
  {
   "cell_type": "code",
   "execution_count": 35,
   "outputs": [],
   "source": [
    "zeroth_ifd = {piexif.ImageIFD.Make: u\"Canon\",\n",
    "              piexif.ImageIFD.XResolution: (96, 1),\n",
    "              piexif.ImageIFD.YResolution: (96, 1),\n",
    "              piexif.ImageIFD.Software: u\"piexif\"\n",
    "              }\n",
    "exif_ifd = {piexif.ExifIFD.DateTimeOriginal: u\"2099:09:29 10:10:10\",\n",
    "            piexif.ExifIFD.LensMake: u\"LensMake\",\n",
    "            piexif.ExifIFD.Sharpness: 65535,\n",
    "            piexif.ExifIFD.LensSpecification: ((1, 1), (1, 1), (1, 1), (1, 1)),\n",
    "            }\n",
    "gps_ifd = {piexif.GPSIFD.GPSVersionID: (2, 0, 0, 0),\n",
    "           piexif.GPSIFD.GPSAltitudeRef: 1,\n",
    "           piexif.GPSIFD.GPSDateStamp: u\"1999:99:99 99:99:99\",\n",
    "           }\n",
    "first_ifd = {piexif.ImageIFD.Make: u\"Canon\",\n",
    "             piexif.ImageIFD.XResolution: (40, 1),\n",
    "             piexif.ImageIFD.YResolution: (40, 1),\n",
    "             piexif.ImageIFD.Software: u\"piexif\"\n",
    "             }\n",
    "\n",
    "exif_dict = {\"0th\":zeroth_ifd, \"Exif\":exif_ifd, \"GPS\":gps_ifd, \"1st\":first_ifd}\n",
    "exif_bytes = piexif.dump(exif_dict)\n",
    "piexif.insert(exif_bytes, \"/home/dsintern3/Documents/GitHub/Steganography/Test_images/Image-02.jpg\")"
   ],
   "metadata": {
    "collapsed": false,
    "pycharm": {
     "name": "#%%\n"
    }
   }
  },
  {
   "cell_type": "code",
   "execution_count": 36,
   "outputs": [],
   "source": [
    "img = Image.open('/home/dsintern3/Documents/GitHub/Steganography/Test_images/Image-02.jpg')\n",
    "img.save('/home/dsintern3/Documents/GitHub/Steganography/Test_images/Image-02.png',exif=exif_bytes)"
   ],
   "metadata": {
    "collapsed": false,
    "pycharm": {
     "name": "#%%\n"
    }
   }
  },
  {
   "cell_type": "code",
   "execution_count": 37,
   "outputs": [
    {
     "name": "stdout",
     "output_type": "stream",
     "text": [
      "No available metadata\n"
     ]
    }
   ],
   "source": [
    "from PIL.ExifTags import TAGS\n",
    "from PIL.PngImagePlugin import PngImageFile, PngInfo\n",
    "import re\n",
    "\n",
    "exif_array=[]\n",
    "type = Image.open('/home/dsintern3/Documents/GitHub/Steganography/Test_images/Image-02.png')\n",
    "if type.format == \"PNG\":\n",
    "  image = PngImageFile('/home/dsintern3/Documents/GitHub/Steganography/Test_images/Image-02.png')\n",
    "  metadata = PngInfo()\n",
    "\n",
    "  # Compile array from tags dict\n",
    "  for i in image.text:\n",
    "    compile = i, str(image.text[i])\n",
    "    exif_array.append(compile)\n",
    "  # If XML metadata, pull out data by idenifying data type and gathering useful meta\n",
    "if len(exif_array) > 0:\n",
    "    header = exif_array[0][0]\n",
    "else:\n",
    "    header = \"\"\n",
    "    print(\"No available metadata\")\n",
    "\n",
    "xml_output = []\n",
    "if header.startswith(\"XML\"):\n",
    "  xml = exif_array[0][1]\n",
    "  xml_output.extend(xml.splitlines())\n",
    "  # Remove useless meta tags\n",
    "  for line in xml.splitlines():\n",
    "     if \"<\" not in line:\n",
    "       if \"xmlns\" not in line:\n",
    "         # Remove equal signs, quotation marks, /> characters and leading spaces\n",
    "         xml_line = re.sub(r'[a-z]*:', '', line).replace('=\"', ': ')\n",
    "         xml_line = xml_line.rstrip(' />')\n",
    "         xml_line = xml_line.rstrip('\\\"')\n",
    "         xml_line = xml_line.lstrip(' ')\n",
    "         print(xml_line)\n",
    "       elif header.startswith(\"Software\"):\n",
    "          print(\"No available metadata\")\n",
    "\n",
    "        # If no XML, print available metadata\n",
    "     else:\n",
    "        for properties in exif_array:\n",
    "            if properties[0] != 'JPEGThumbnail':\n",
    "                print(': '.join(str(x) for x in properties))"
   ],
   "metadata": {
    "collapsed": false,
    "pycharm": {
     "name": "#%%\n"
    }
   }
  },
  {
   "cell_type": "code",
   "execution_count": 38,
   "outputs": [
    {
     "data": {
      "text/plain": "<PixelAccess at 0x7f28f93a3070>"
     },
     "execution_count": 38,
     "metadata": {},
     "output_type": "execute_result"
    }
   ],
   "source": [
    "im = Image.open('/home/dsintern3/Documents/GitHub/Steganography/Test_images/Image-02.png')\n",
    "im.load()  # Needed only for .png EXIF data (see citation above)\n",
    "\n",
    "if len(im.info['exif']) == 0:\n",
    "    print('This image has no exif data.')\n",
    "else:\n",
    "    ascii = map(ord,im.info['exif'])\n",
    "\n",
    "    print(''.join(chr(i) for i in ascii))"
   ],
   "metadata": {
    "collapsed": false,
    "pycharm": {
     "name": "#%%\n"
    }
   }
  },
  {
   "cell_type": "code",
   "execution_count": 57,
   "outputs": [
    {
     "data": {
      "text/plain": "'0'"
     },
     "execution_count": 57,
     "metadata": {},
     "output_type": "execute_result"
    }
   ],
   "source": [
    "chr()"
   ],
   "metadata": {
    "collapsed": false,
    "pycharm": {
     "name": "#%%\n"
    }
   }
  },
  {
   "cell_type": "code",
   "execution_count": 50,
   "outputs": [],
   "source": [
    "string=str(im.info['exif'])[6:]"
   ],
   "metadata": {
    "collapsed": false,
    "pycharm": {
     "name": "#%%\n"
    }
   }
  },
  {
   "cell_type": "code",
   "execution_count": 54,
   "outputs": [
    {
     "data": {
      "text/plain": "[92,\n 120,\n 48,\n 48,\n 92,\n 120,\n 48,\n 48,\n 77,\n 77,\n 92,\n 120,\n 48,\n 48,\n 42,\n 92,\n 120,\n 48,\n 48,\n 92,\n 120,\n 48,\n 48,\n 92,\n 120,\n 48,\n 48,\n 92,\n 120,\n 48,\n 56,\n 92,\n 120,\n 48,\n 48,\n 92,\n 120,\n 48,\n 54,\n 92,\n 120,\n 48,\n 49,\n 92,\n 120,\n 48,\n 102,\n 92,\n 120,\n 48,\n 48,\n 92,\n 120,\n 48,\n 50,\n 92,\n 120,\n 48,\n 48,\n 92,\n 120,\n 48,\n 48,\n 92,\n 120,\n 48,\n 48,\n 92,\n 120,\n 48,\n 54,\n 92,\n 120,\n 48,\n 48,\n 92,\n 120,\n 48,\n 48,\n 92,\n 120,\n 48,\n 48,\n 86,\n 92,\n 120,\n 48,\n 49,\n 92,\n 120,\n 49,\n 97,\n 92,\n 120,\n 48,\n 48,\n 92,\n 120,\n 48,\n 53,\n 92,\n 120,\n 48,\n 48,\n 92,\n 120,\n 48,\n 48,\n 92,\n 120,\n 48,\n 48,\n 92,\n 120,\n 48,\n 49,\n 92,\n 120,\n 48,\n 48,\n 92,\n 120,\n 48,\n 48,\n 92,\n 120,\n 48,\n 48,\n 92,\n 92,\n 92,\n 120,\n 48,\n 49,\n 92,\n 120,\n 49,\n 98,\n 92,\n 120,\n 48,\n 48,\n 92,\n 120,\n 48,\n 53,\n 92,\n 120,\n 48,\n 48,\n 92,\n 120,\n 48,\n 48,\n 92,\n 120,\n 48,\n 48,\n 92,\n 120,\n 48,\n 49,\n 92,\n 120,\n 48,\n 48,\n 92,\n 120,\n 48,\n 48,\n 92,\n 120,\n 48,\n 48,\n 100,\n 92,\n 120,\n 48,\n 49,\n 49,\n 92,\n 120,\n 48,\n 48,\n 92,\n 120,\n 48,\n 50,\n 92,\n 120,\n 48,\n 48,\n 92,\n 120,\n 48,\n 48,\n 92,\n 120,\n 48,\n 48,\n 92,\n 120,\n 48,\n 55,\n 92,\n 120,\n 48,\n 48,\n 92,\n 120,\n 48,\n 48,\n 92,\n 120,\n 48,\n 48,\n 108,\n 92,\n 120,\n 56,\n 55,\n 105,\n 92,\n 120,\n 48,\n 48,\n 92,\n 120,\n 48,\n 52,\n 92,\n 120,\n 48,\n 48,\n 92,\n 120,\n 48,\n 48,\n 92,\n 120,\n 48,\n 48,\n 92,\n 120,\n 48,\n 49,\n 92,\n 120,\n 48,\n 48,\n 92,\n 120,\n 48,\n 48,\n 92,\n 120,\n 48,\n 48,\n 115,\n 92,\n 120,\n 56,\n 56,\n 37,\n 92,\n 120,\n 48,\n 48,\n 92,\n 120,\n 48,\n 52,\n 92,\n 120,\n 48,\n 48,\n 92,\n 120,\n 48,\n 48,\n 92,\n 120,\n 48,\n 48,\n 92,\n 120,\n 48,\n 49,\n 92,\n 120,\n 48,\n 48,\n 92,\n 120,\n 48,\n 48,\n 92,\n 120,\n 48,\n 48,\n 92,\n 120,\n 101,\n 50,\n 92,\n 120,\n 48,\n 48,\n 92,\n 120,\n 48,\n 48,\n 92,\n 120,\n 48,\n 48,\n 92,\n 120,\n 48,\n 48,\n 67,\n 97,\n 110,\n 111,\n 110,\n 92,\n 120,\n 48,\n 48,\n 92,\n 120,\n 48,\n 48,\n 92,\n 120,\n 48,\n 48,\n 92,\n 120,\n 48,\n 48,\n 96,\n 92,\n 120,\n 48,\n 48,\n 92,\n 120,\n 48,\n 48,\n 92,\n 120,\n 48,\n 48,\n 92,\n 120,\n 48,\n 49,\n 92,\n 120,\n 48,\n 48,\n 92,\n 120,\n 48,\n 48,\n 92,\n 120,\n 48,\n 48,\n 96,\n 92,\n 120,\n 48,\n 48,\n 92,\n 120,\n 48,\n 48,\n 92,\n 120,\n 48,\n 48,\n 92,\n 120,\n 48,\n 49,\n 112,\n 105,\n 101,\n 120,\n 105,\n 102,\n 92,\n 120,\n 48,\n 48,\n 92,\n 120,\n 48,\n 48,\n 92,\n 120,\n 48,\n 52,\n 92,\n 120,\n 57,\n 48,\n 92,\n 120,\n 48,\n 51,\n 92,\n 120,\n 48,\n 48,\n 92,\n 120,\n 48,\n 50,\n 92,\n 120,\n 48,\n 48,\n 92,\n 120,\n 48,\n 48,\n 92,\n 120,\n 48,\n 48,\n 92,\n 120,\n 49,\n 52,\n 92,\n 120,\n 48,\n 48,\n 92,\n 120,\n 48,\n 48,\n 92,\n 120,\n 48,\n 48,\n 92,\n 120,\n 97,\n 53,\n 92,\n 120,\n 97,\n 52,\n 92,\n 110,\n 92,\n 120,\n 48,\n 48,\n 92,\n 120,\n 48,\n 51,\n 92,\n 120,\n 48,\n 48,\n 92,\n 120,\n 48,\n 48,\n 92,\n 120,\n 48,\n 48,\n 92,\n 120,\n 48,\n 49,\n 92,\n 120,\n 102,\n 102,\n 92,\n 120,\n 102,\n 102,\n 92,\n 120,\n 48,\n 48,\n 92,\n 120,\n 48,\n 48,\n 92,\n 120,\n 97,\n 52,\n 50,\n 92,\n 120,\n 48,\n 48,\n 92,\n 120,\n 48,\n 53,\n 92,\n 120,\n 48,\n 48,\n 92,\n 120,\n 48,\n 48,\n 92,\n 120,\n 48,\n 48,\n 92,\n 120,\n 48,\n 52,\n 92,\n 120,\n 48,\n 48,\n 92,\n 120,\n 48,\n 48,\n 92,\n 120,\n 48,\n 48,\n 92,\n 120,\n 98,\n 57,\n 92,\n 120,\n 97,\n 52,\n 51,\n 92,\n 120,\n 48,\n 48,\n 92,\n 120,\n 48,\n 50,\n 92,\n 120,\n 48,\n 48,\n 92,\n 120,\n 48,\n 48,\n 92,\n 120,\n 48,\n 48,\n 92,\n 116,\n 92,\n 120,\n 48,\n 48,\n 92,\n 120,\n 48,\n 48,\n 92,\n 120,\n 48,\n 48,\n 92,\n 120,\n 100,\n 57,\n 50,\n 48,\n 57,\n 57,\n 58,\n 48,\n 57,\n 58,\n 50,\n 57,\n 32,\n 49,\n 48,\n 58,\n 49,\n 48,\n 58,\n 49,\n 48,\n 92,\n 120,\n 48,\n 48,\n 92,\n 120,\n 48,\n 48,\n 92,\n 120,\n 48,\n 48,\n 92,\n 120,\n 48,\n 48,\n 92,\n 120,\n 48,\n 49,\n 92,\n 120,\n 48,\n 48,\n 92,\n 120,\n 48,\n 48,\n 92,\n 120,\n 48,\n 48,\n 92,\n 120,\n 48,\n 49,\n 92,\n 120,\n 48,\n 48,\n 92,\n 120,\n 48,\n 48,\n 92,\n 120,\n 48,\n 48,\n 92,\n 120,\n 48,\n 49,\n 92,\n 120,\n 48,\n 48,\n 92,\n 120,\n 48,\n 48,\n 92,\n 120,\n 48,\n 48,\n 92,\n 120,\n 48,\n 49,\n 92,\n 120,\n 48,\n 48,\n 92,\n 120,\n 48,\n 48,\n 92,\n 120,\n 48,\n 48,\n 92,\n 120,\n 48,\n 49,\n 92,\n 120,\n 48,\n 48,\n 92,\n 120,\n 48,\n 48,\n 92,\n 120,\n 48,\n 48,\n 92,\n 120,\n 48,\n 49,\n 92,\n 120,\n 48,\n 48,\n 92,\n 120,\n 48,\n 48,\n 92,\n 120,\n 48,\n 48,\n 92,\n 120,\n 48,\n 49,\n 92,\n 120,\n 48,\n 48,\n 92,\n 120,\n 48,\n 48,\n 92,\n 120,\n 48,\n 48,\n 92,\n 120,\n 48,\n 49,\n 76,\n 101,\n 110,\n 115,\n 77,\n 97,\n 107,\n 101,\n 92,\n 120,\n 48,\n 48,\n 92,\n 120,\n 48,\n 48,\n 92,\n 120,\n 48,\n 51,\n 92,\n 120,\n 48,\n 48,\n 92,\n 120,\n 48,\n 48,\n 92,\n 120,\n 48,\n 48,\n 92,\n 120,\n 48,\n 49,\n 92,\n 120,\n 48,\n 48,\n 92,\n 120,\n 48,\n 48,\n 92,\n 120,\n 48,\n 48,\n 92,\n 120,\n 48,\n 52,\n 92,\n 120,\n 48,\n 50,\n 92,\n 120,\n 48,\n 48,\n 92,\n 120,\n 48,\n 48,\n 92,\n 120,\n 48,\n 48,\n 92,\n 120,\n 48,\n 48,\n 92,\n 120,\n 48,\n 53,\n 92,\n 120,\n 48,\n 48,\n 92,\n 120,\n 48,\n 49,\n 92,\n 120,\n 48,\n 48,\n 92,\n 120,\n 48,\n 48,\n 92,\n 120,\n 48,\n 48,\n 92,\n 120,\n 48,\n 49,\n 92,\n 120,\n 48,\n 49,\n 92,\n 120,\n 48,\n 48,\n 92,\n 120,\n 48,\n 48,\n 92,\n 120,\n 48,\n 48,\n 92,\n 120,\n 48,\n 48,\n 92,\n 120,\n 49,\n 100,\n 92,\n 120,\n 48,\n 48,\n 92,\n 120,\n 48,\n 50,\n 92,\n 120,\n 48,\n 48,\n 92,\n 120,\n 48,\n 48,\n 92,\n 120,\n 48,\n 48,\n 92,\n 120,\n 49,\n 52,\n 92,\n 120,\n 48,\n 48,\n 92,\n 120,\n 48,\n 48,\n 92,\n 120,\n 48,\n 49,\n 92,\n 120,\n 48,\n 56,\n 49,\n 57,\n 57,\n 57,\n 58,\n 57,\n 57,\n 58,\n 57,\n 57,\n 32,\n 57,\n 57,\n 58,\n 57,\n 57,\n 58,\n 57,\n 57,\n 92,\n 120,\n 48,\n 48,\n 39]"
     },
     "execution_count": 54,
     "metadata": {},
     "output_type": "execute_result"
    }
   ],
   "source": [
    "ascii=list(map(ord,string))\n",
    "ascii"
   ],
   "metadata": {
    "collapsed": false,
    "pycharm": {
     "name": "#%%\n"
    }
   }
  }
 ],
 "metadata": {
  "kernelspec": {
   "display_name": "Python 3",
   "language": "python",
   "name": "python3"
  },
  "language_info": {
   "codemirror_mode": {
    "name": "ipython",
    "version": 2
   },
   "file_extension": ".py",
   "mimetype": "text/x-python",
   "name": "python",
   "nbconvert_exporter": "python",
   "pygments_lexer": "ipython2",
   "version": "2.7.6"
  }
 },
 "nbformat": 4,
 "nbformat_minor": 0
}