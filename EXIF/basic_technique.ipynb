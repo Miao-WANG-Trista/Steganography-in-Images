{
 "cells": [
  {
   "cell_type": "markdown",
   "metadata": {
    "pycharm": {
     "name": "#%% md\n"
    }
   },
   "source": [
    "# Append extra digits to the image"
   ]
  },
  {
   "cell_type": "markdown",
   "metadata": {
    "pycharm": {
     "name": "#%% md\n"
    }
   },
   "source": [
    "## Encoding"
   ]
  },
  {
   "cell_type": "code",
   "execution_count": 9,
   "metadata": {
    "pycharm": {
     "name": "#%%\n"
    }
   },
   "outputs": [],
   "source": [
    "# Encode the secret message in binary\n",
    "message = 'I love kopitiam'\n",
    "with open(\"/home/dsintern3/PycharmProjects/Steganography/LSB_tool/original (copy).png\",\"ab\") as f: #\"ab\" access mode means append in binary, the pointer is at the end\n",
    "    f.write(message.encode(\"utf8\"))"
   ]
  },
  {
   "cell_type": "code",
   "execution_count": 10,
   "metadata": {
    "pycharm": {
     "name": "#%%\n"
    }
   },
   "outputs": [
    {
     "data": {
      "image/png": "[encoded data removed]",
      "text/plain": [
       "<Figure size 432x288 with 1 Axes>"
      ]
     },
     "metadata": {
      "needs_background": "light"
     },
     "output_type": "display_data"
    }
   ],
   "source": [
    "%matplotlib inline\n",
    "import matplotlib.pyplot as plt\n",
    "import matplotlib.image as mpimg\n",
    "img = mpimg.imread(\"/home/dsintern3/PycharmProjects/Steganography/LSB_tool/original (copy).png\")\n",
    "imgplot = plt.imshow(img)\n",
    "plt.show()"
   ]
  },
  {
   "cell_type": "code",
   "execution_count": null,
   "outputs": [],
   "source": [
    "## Decoding"
   ],
   "metadata": {
    "collapsed": false,
    "pycharm": {
     "name": "#%%\n"
    }
   }
  },
  {
   "cell_type": "code",
   "execution_count": 16,
   "metadata": {
    "pycharm": {
     "name": "#%%\n"
    }
   },
   "outputs": [
    {
     "name": "stdout",
     "output_type": "stream",
     "text": [
      "I love kopitiam\n"
     ]
    }
   ],
   "source": [
    "with open(\"/home/dsintern3/PycharmProjects/Steganography/LSB_tool/original (copy).png\",'rb') as f:\n",
    "    contents = f.read()\n",
    "    print(contents[-15:].decode(\"utf-8\"))"
   ]
  },
  {
   "cell_type": "markdown",
   "metadata": {
    "pycharm": {
     "name": "#%% md\n"
    }
   },
   "source": [
    "# Metadata"
   ]
  },
  {
   "cell_type": "markdown",
   "source": [
    "date,time,format,camera tags,photo manipulation software tags, GPS,etc.  \n",
    "The complete list of EXIF tags:https://exiftool.org/TagNames/EXIF.html  \n",
    "The EXIF tags that piexif supports:https://github.com/hMatoba/Piexif/blob/master/piexif/_exif.py"
   ],
   "metadata": {
    "collapsed": false,
    "pycharm": {
     "name": "#%% md\n"
    }
   }
  },
  {
   "cell_type": "code",
   "execution_count": null,
   "outputs": [],
   "source": [
    "# Translate png to JPG\n",
    "\n",
    "# from PIL import Image\n",
    "\n",
    "# im1 = Image.open(r'/home/dsintern3/PycharmProjects/Steganography/LSB_tool/original (copy).png')\n",
    "# im1 = im1.convert(\"RGB\")\n",
    "# im1.save(r'/home/dsintern3/PycharmProjects/Steganography/LSB_tool/original (copy).jpg')"
   ],
   "metadata": {
    "collapsed": false,
    "pycharm": {
     "name": "#%%\n"
    }
   }
  },
  {
   "cell_type": "code",
   "execution_count": null,
   "outputs": [],
   "source": [
    "import piexif\n",
    "from PIL import Image\n",
    "\n",
    "\n",
    "im = Image.open(\"/home/dsintern3/PycharmProjects/Steganography/LSB_tool/image13-large.jpeg\")\n",
    "if \"exif\" in im.info:\n",
    "    exif_dict = piexif.load(\"/home/dsintern3/PycharmProjects/Steganography/LSB_tool/image13-large.jpeg\")\n",
    "    exif_dict[\"0th\"][piexif.ImageIFD.ImageDescription] = message\n",
    "    exif_bytes = piexif.dump(exif_dict)\n",
    "else:\n",
    "    exif_bytes = piexif.dump({\"0th\":{piexif.ImageIFD.ImageDescription:message}})\n",
    "\n",
    "im.save(\"cover-secret.jpeg\",exif =exif_bytes)"
   ],
   "metadata": {
    "collapsed": false,
    "pycharm": {
     "name": "#%%\n"
    }
   }
  },
  {
   "cell_type": "code",
   "execution_count": 40,
   "metadata": {
    "pycharm": {
     "name": "#%%\n"
    }
   },
   "outputs": [],
   "source": [
    "import piexif\n",
    "from PIL import Image\n",
    "\n",
    "\n",
    "im = Image.open(\"/home/dsintern3/PycharmProjects/Steganography/LSB_tool/image13-large.jpeg\")\n",
    "if \"exif\" in im.info:\n",
    "    exif_dict = piexif.load(\"/home/dsintern3/PycharmProjects/Steganography/LSB_tool/image13-large.jpeg\")\n",
    "    exif_dict[\"0th\"][piexif.ImageIFD.ImageDescription] = message\n",
    "    exif_bytes = piexif.dump(exif_dict)\n",
    "else:\n",
    "    exif_bytes = piexif.dump({\"0th\":{piexif.ImageIFD.ImageDescription:message}})\n",
    "\n",
    "im.save(\"cover-secret.jpeg\",exif =exif_bytes)"
   ]
  },
  {
   "cell_type": "code",
   "execution_count": null,
   "metadata": {
    "pycharm": {
     "name": "#%%\n"
    }
   },
   "outputs": [],
   "source": []
  },
  {
   "cell_type": "code",
   "execution_count": null,
   "metadata": {
    "pycharm": {
     "name": "#%%\n"
    }
   },
   "outputs": [],
   "source": []
  }
 ],
 "metadata": {
  "kernelspec": {
   "display_name": "Python 3 (ipykernel)",
   "language": "python",
   "name": "python3"
  },
  "language_info": {
   "codemirror_mode": {
    "name": "ipython",
    "version": 3
   },
   "file_extension": ".py",
   "mimetype": "text/x-python",
   "name": "python",
   "nbconvert_exporter": "python",
   "pygments_lexer": "ipython3",
   "version": "3.10.4"
  },
  "toc": {
   "base_numbering": 1,
   "nav_menu": {},
   "number_sections": true,
   "sideBar": true,
   "skip_h1_title": false,
   "title_cell": "Table of Contents",
   "title_sidebar": "Contents",
   "toc_cell": false,
   "toc_position": {},
   "toc_section_display": true,
   "toc_window_display": false
  }
 },
 "nbformat": 4,
 "nbformat_minor": 1
}